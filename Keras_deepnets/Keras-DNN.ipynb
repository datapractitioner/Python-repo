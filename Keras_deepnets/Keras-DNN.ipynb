{
 "metadata": {
  "language_info": {
   "codemirror_mode": {
    "name": "ipython",
    "version": 3
   },
   "file_extension": ".py",
   "mimetype": "text/x-python",
   "name": "python",
   "nbconvert_exporter": "python",
   "pygments_lexer": "ipython3",
   "version": "3.8.3-final"
  },
  "orig_nbformat": 2,
  "kernelspec": {
   "name": "python3",
   "display_name": "Python 3",
   "language": "python"
  }
 },
 "nbformat": 4,
 "nbformat_minor": 2,
 "cells": [
  {
   "cell_type": "code",
   "execution_count": 3,
   "metadata": {},
   "outputs": [],
   "source": [
    "from tensorflow.keras.models import Sequential\n",
    "from tensorflow.keras.layers import Dense\n",
    "\n",
    "import numpy as np"
   ]
  },
  {
   "cell_type": "code",
   "execution_count": null,
   "metadata": {},
   "outputs": [],
   "source": [
    "def make_model(n_inputs, intermediate_layer, n_classes, task):\n",
    "\n",
    "    model = Sequential()\n",
    "    model.add(Dense(n_inputs, activation = 'relu'))\n",
    "    model.add(Dense(intermediate_layer, activation = 'relu'))\n",
    "    if task == 'regression':\n",
    "        model.add(Dense(n_classes, activation = 'linear'))\n",
    "    elif task == 'multi':\n",
    "        model.add(Dense(n_classes, activation = 'softmax'))\n",
    "        model.compile(loss = 'categorical_crossentropy', optimizer = 'sgd', metrics = ['accuracy'])\n",
    "    elif task == 'binary':\n",
    "        model.add(Dense(n_classes, activation = 'sigmoid'))\n",
    "\n",
    "    # to be continued\n",
    "\n",
    "    return model"
   ]
  }
 ]
}